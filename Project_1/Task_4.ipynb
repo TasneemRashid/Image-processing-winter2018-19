{
 "cells": [
  {
   "cell_type": "markdown",
   "metadata": {},
   "source": [
    "## Task 1.4: exploring the importance of phase"
   ]
  },
  {
   "cell_type": "code",
   "execution_count": null,
   "metadata": {},
   "outputs": [],
   "source": [
    "import numpy as np\n",
    "import matplotlib.pyplot as plt"
   ]
  },
  {
   "cell_type": "code",
   "execution_count": null,
   "metadata": {},
   "outputs": [],
   "source": [
    "#input images\n",
    "img_g = plt.imread('./resources/bauckhage.jpg')\n",
    "img_h = plt.imread('./resources/clock.jpg')\n",
    "#check if the dimensions of both images are the same\n",
    "if img_g.shape != img_h.shape:\n",
    "    print(\"The Images are not of the same size, please try again!\")\n",
    "    exit()\n",
    "    \n",
    "#compute the Fourier Transform of the two 2-dimensional functions\n",
    "func_G = np.fft.fft2(img_g)\n",
    "func_H = np.fft.fft2(img_h)\n",
    "\n",
    "#prepare the magnitude and phase for the new Function K\n",
    "K_magnitude = np.absolute(func_G)\n",
    "K_phase = np.angle(func_H)\n",
    "\n",
    "#build complex function K\n",
    "\n",
    "\n",
    "#initiate function K\n",
    "\n",
    "\n",
    "#compute inverse Fourier Transform of function K\n",
    "\n",
    "\n",
    "#plot function K\n"
   ]
  },
  {
   "cell_type": "code",
   "execution_count": null,
   "metadata": {},
   "outputs": [],
   "source": []
  }
 ],
 "metadata": {
  "kernelspec": {
   "display_name": "Python 3",
   "language": "python",
   "name": "python3"
  },
  "language_info": {
   "codemirror_mode": {
    "name": "ipython",
    "version": 3
   },
   "file_extension": ".py",
   "mimetype": "text/x-python",
   "name": "python",
   "nbconvert_exporter": "python",
   "pygments_lexer": "ipython3",
   "version": "3.5.2"
  }
 },
 "nbformat": 4,
 "nbformat_minor": 2
}
